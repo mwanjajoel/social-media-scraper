{
 "cells": [
  {
   "cell_type": "code",
   "execution_count": 5,
   "metadata": {},
   "outputs": [],
   "source": [
    "import snscrape.modules.twitter as sntwitter\n",
    "import pandas as pd"
   ]
  },
  {
   "cell_type": "code",
   "execution_count": 6,
   "metadata": {},
   "outputs": [],
   "source": [
    "# list to append twitter data to\n",
    "tweets_list = []\n",
    "\n",
    "# get twitter data from elon musk's account\n",
    "for i, tweet in enumerate(sntwitter.TwitterSearchScraper('from:elonmusk').get_items()):\n",
    "    if i > 10000:\n",
    "        break\n",
    "    tweets_list.append([tweet.date, tweet.id, tweet.content, tweet.username])\n",
    " "
   ]
  },
  {
   "cell_type": "code",
   "execution_count": 7,
   "metadata": {},
   "outputs": [],
   "source": [
    "# store the data in a dataframe\n",
    "tweets_data = pd.DataFrame(tweets_list, columns=['date', 'id', 'content', 'username'])\n",
    "tweets_data.head()\n",
    "tweets_data.to_csv('ukraine_russia_tweets.csv')\n"
   ]
  }
 ],
 "metadata": {
  "interpreter": {
   "hash": "60307cf7d2f87d9d8245ba96dacd4299cbcce7e4d5ed010c0ccbfb4d6b2c86e1"
  },
  "kernelspec": {
   "display_name": "Python 3.6.8 ('scrape-env': venv)",
   "language": "python",
   "name": "python3"
  },
  "language_info": {
   "codemirror_mode": {
    "name": "ipython",
    "version": 3
   },
   "file_extension": ".py",
   "mimetype": "text/x-python",
   "name": "python",
   "nbconvert_exporter": "python",
   "pygments_lexer": "ipython3",
   "version": "3.6.8"
  },
  "orig_nbformat": 4
 },
 "nbformat": 4,
 "nbformat_minor": 2
}
