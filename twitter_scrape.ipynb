{
 "cells": [
  {
   "cell_type": "code",
   "execution_count": 2,
   "metadata": {},
   "outputs": [
    {
     "ename": "ModuleNotFoundError",
     "evalue": "No module named 'snscrape'",
     "output_type": "error",
     "traceback": [
      "\u001b[0;31m---------------------------------------------------------------------------\u001b[0m",
      "\u001b[0;31mModuleNotFoundError\u001b[0m                       Traceback (most recent call last)",
      "\u001b[1;32m/Users/mwanjajoel/Downloads/Code/Sandbox/snscraper/twitter_scrape.ipynb Cell 1'\u001b[0m in \u001b[0;36m<cell line: 1>\u001b[0;34m()\u001b[0m\n\u001b[0;32m----> <a href='vscode-notebook-cell:/Users/mwanjajoel/Downloads/Code/Sandbox/snscraper/twitter_scrape.ipynb#ch0000000?line=0'>1</a>\u001b[0m \u001b[39mimport\u001b[39;00m \u001b[39msnscrape\u001b[39;00m\u001b[39m.\u001b[39;00m\u001b[39mmodules\u001b[39;00m\u001b[39m.\u001b[39;00m\u001b[39mtwitter\u001b[39;00m \u001b[39mas\u001b[39;00m \u001b[39msntwitter\u001b[39;00m\n\u001b[1;32m      <a href='vscode-notebook-cell:/Users/mwanjajoel/Downloads/Code/Sandbox/snscraper/twitter_scrape.ipynb#ch0000000?line=1'>2</a>\u001b[0m \u001b[39mimport\u001b[39;00m \u001b[39mpandas\u001b[39;00m \u001b[39mas\u001b[39;00m \u001b[39mpd\u001b[39;00m\n",
      "\u001b[0;31mModuleNotFoundError\u001b[0m: No module named 'snscrape'"
     ]
    }
   ],
   "source": [
    "import snscrape.modules.twitter as sntwitter\n",
    "import pandas as pd"
   ]
  },
  {
   "cell_type": "code",
   "execution_count": null,
   "metadata": {},
   "outputs": [],
   "source": [
    "# list to append twitter data to\n",
    "tweets_list = []\n",
    "\n",
    "# get twitter data from elon musk's account\n",
    "for i, tweet in enumerate(sntwitter.TwitterSearchScraper('from:elonmusk').get_items()):\n",
    "    if i > 10000:\n",
    "        break\n",
    "    tweets_list.append([tweet.date, tweet.id, tweet.content, tweet.username])\n",
    " "
   ]
  },
  {
   "cell_type": "code",
   "execution_count": null,
   "metadata": {},
   "outputs": [],
   "source": [
    "# store the data in a dataframe\n",
    "tweets_data = pd.DataFrame(tweets_list, columns=['date', 'id', 'content', 'username'])\n",
    "tweets_data.head()\n",
    "tweets_data.to_csv('tweets_data.csv')\n"
   ]
  },
  {
   "cell_type": "markdown",
   "metadata": {},
   "source": [
    "## Scraping a Twitter Hashtag\n",
    "The code below scrapes the first 1000 tweets from the hashtag #PhanerooKuGround"
   ]
  },
  {
   "cell_type": "code",
   "execution_count": null,
   "metadata": {},
   "outputs": [
    {
     "ename": "NameError",
     "evalue": "name 'sntwitter' is not defined",
     "output_type": "error",
     "traceback": [
      "\u001b[0;31m---------------------------------------------------------------------------\u001b[0m",
      "\u001b[0;31mNameError\u001b[0m                                 Traceback (most recent call last)",
      "\u001b[1;32m/Users/mwanjajoel/Downloads/Code/Sandbox/snscraper/twitter_scrape.ipynb Cell 5'\u001b[0m in \u001b[0;36m<cell line: 5>\u001b[0;34m()\u001b[0m\n\u001b[1;32m      <a href='vscode-notebook-cell:/Users/mwanjajoel/Downloads/Code/Sandbox/snscraper/twitter_scrape.ipynb#ch0000004?line=1'>2</a>\u001b[0m phaneroo_tweets \u001b[39m=\u001b[39m []\n\u001b[1;32m      <a href='vscode-notebook-cell:/Users/mwanjajoel/Downloads/Code/Sandbox/snscraper/twitter_scrape.ipynb#ch0000004?line=3'>4</a>\u001b[0m \u001b[39m# get the twitter data from the #PhanerooKuGround hashtag\u001b[39;00m\n\u001b[0;32m----> <a href='vscode-notebook-cell:/Users/mwanjajoel/Downloads/Code/Sandbox/snscraper/twitter_scrape.ipynb#ch0000004?line=4'>5</a>\u001b[0m \u001b[39mfor\u001b[39;00m i, tweet \u001b[39min\u001b[39;00m \u001b[39menumerate\u001b[39m(sntwitter\u001b[39m.\u001b[39mTwitterSearchScraper(\u001b[39m'\u001b[39m\u001b[39m#PhanerooKuGround\u001b[39m\u001b[39m'\u001b[39m)\u001b[39m.\u001b[39mget_items()):\n\u001b[1;32m      <a href='vscode-notebook-cell:/Users/mwanjajoel/Downloads/Code/Sandbox/snscraper/twitter_scrape.ipynb#ch0000004?line=5'>6</a>\u001b[0m     \u001b[39mif\u001b[39;00m i \u001b[39m>\u001b[39m \u001b[39m1000\u001b[39m:\n\u001b[1;32m      <a href='vscode-notebook-cell:/Users/mwanjajoel/Downloads/Code/Sandbox/snscraper/twitter_scrape.ipynb#ch0000004?line=6'>7</a>\u001b[0m         \u001b[39mbreak\u001b[39;00m\n",
      "\u001b[0;31mNameError\u001b[0m: name 'sntwitter' is not defined"
     ]
    }
   ],
   "source": [
    "# list to append twitter data to\n",
    "phaneroo_tweets = []\n",
    "\n",
    "# get the twitter data from the #PhanerooKuGround hashtag\n",
    "for i, tweet in enumerate(sntwitter.TwitterSearchScraper('#PhanerooKuGround').get_items()):\n",
    "    if i > 1000:\n",
    "        break\n",
    "    phaneroo_tweets.append([tweet.date, tweet.id, tweet.content, tweet.username])\n",
    "\n",
    "phaneroo_data = pd.DataFrame(phaneroo_tweets, columns=['date', 'id', 'content', 'username'])\n",
    "phaneroo_data.head()\n",
    "phaneroo_data.to_csv('phaneroo_data.csv')"
   ]
  }
 ],
 "metadata": {
  "interpreter": {
   "hash": "60307cf7d2f87d9d8245ba96dacd4299cbcce7e4d5ed010c0ccbfb4d6b2c86e1"
  },
  "kernelspec": {
   "display_name": "Python 3.6.8 ('scrape-env': venv)",
   "language": "python",
   "name": "python3"
  },
  "language_info": {
   "codemirror_mode": {
    "name": "ipython",
    "version": 3
   },
   "file_extension": ".py",
   "mimetype": "text/x-python",
   "name": "python",
   "nbconvert_exporter": "python",
   "pygments_lexer": "ipython3",
   "version": "3.10.2"
  },
  "orig_nbformat": 4
 },
 "nbformat": 4,
 "nbformat_minor": 2
}
